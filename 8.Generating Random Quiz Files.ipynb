{
 "cells": [
  {
   "cell_type": "markdown",
   "metadata": {},
   "source": [
    "* Quiz on US state capitals\n",
    "* 50 questions and multiple choice answers\n",
    "* 20 different quizzes"
   ]
  },
  {
   "cell_type": "code",
   "execution_count": 1,
   "metadata": {},
   "outputs": [],
   "source": [
    "# import packages\n",
    "import random\n",
    "import os"
   ]
  },
  {
   "cell_type": "code",
   "execution_count": 2,
   "metadata": {},
   "outputs": [],
   "source": [
    "capitals = {'Alabama': 'Montgomery', 'Alaska': 'Juneau', 'Arizona': 'Phoenix',\n",
    "'Arkansas': 'Little Rock', 'California': 'Sacramento', 'Colorado': 'Denver',\n",
    "'Connecticut': 'Hartford', 'Delaware': 'Dover', 'Florida': 'Tallahassee',\n",
    "'Georgia': 'Atlanta', 'Hawaii': 'Honolulu', 'Idaho': 'Boise', 'Illinois':\n",
    "'Springfield', 'Indiana': 'Indianapolis', 'Iowa': 'Des Moines', 'Kansas':\n",
    "'Topeka', 'Kentucky': 'Frankfort', 'Louisiana': 'Baton Rouge', 'Maine':\n",
    "'Augusta', 'Maryland': 'Annapolis', 'Massachusetts': 'Boston', 'Michigan':\n",
    "'Lansing', 'Minnesota': 'Saint Paul', 'Mississippi': 'Jackson', 'Missouri':\n",
    "'Jefferson City', 'Montana': 'Helena', 'Nebraska': 'Lincoln', 'Nevada':\n",
    "'Carson City', 'New Hampshire': 'Concord', 'New Jersey': 'Trenton',\n",
    "'New Mexico': 'Santa Fe', 'New York': 'Albany', 'North Carolina': 'Raleigh',\n",
    "'North Dakota': 'Bismarck', 'Ohio': 'Columbus', 'Oklahoma': 'Oklahoma City',\n",
    "'Oregon': 'Salem', 'Pennsylvania': 'Harrisburg', 'Rhode Island': 'Providence',\n",
    "'South Carolina': 'Columbia', 'South Dakota': 'Pierre', 'Tennessee':\n",
    "'Nashville', 'Texas': 'Austin', 'Utah': 'Salt Lake City', 'Vermont':\n",
    "'Montpelier', 'Virginia': 'Richmond', 'Washington': 'Olympia', \n",
    "'West Virginia': 'Charleston', 'Wisconsin': 'Madison', 'Wyoming': 'Cheyenne'}"
   ]
  },
  {
   "cell_type": "code",
   "execution_count": 3,
   "metadata": {},
   "outputs": [
    {
     "data": {
      "text/plain": [
       "50"
      ]
     },
     "execution_count": 3,
     "metadata": {},
     "output_type": "execute_result"
    }
   ],
   "source": [
    "len(capitals)"
   ]
  },
  {
   "cell_type": "code",
   "execution_count": 4,
   "metadata": {},
   "outputs": [],
   "source": [
    "# Create a separate directory to store the quiz files\n",
    "os.makedirs('./US_quiz')\n",
    "# Change the current working directory to Newly created one\n",
    "os.chdir('./US_quiz')"
   ]
  },
  {
   "cell_type": "code",
   "execution_count": 5,
   "metadata": {},
   "outputs": [],
   "source": [
    "# Create 20 different question papers\n",
    "for i in range(20):\n",
    "    # Question file and corresponding answer file\n",
    "    Quefile = open('US_capitals_quiz%s.txt'%(i+1), 'w')\n",
    "    Ans = open('US_capitals_quiz_ans%s.txt'%(i+1), 'w')\n",
    "    \n",
    "    # take student information\n",
    "    Quefile.write('Student Name:\\n\\nDate:\\n\\nClass:\\n\\n')\n",
    "    Quefile.write((' '*30)+'State_Capitals_Quiz\\n\\n')\n",
    "    \n",
    "    # create a list of states\n",
    "    states = list(capitals.keys())\n",
    "    # shuffle the lists\n",
    "    random.shuffle(states)  \n",
    "    \n",
    "    '''\n",
    "       Add 50 questions to the Quefile and \n",
    "       corresponding answer keys to the Ans  \n",
    "    '''\n",
    "    for i in range(50):\n",
    "        # capital value for a given state\n",
    "        correctAns = capitals[states[i]]\n",
    "        # all other capitals except the correctAns\n",
    "        wrongAns = list(capitals.values())\n",
    "        del wrongAns[wrongAns.index(correctAns)]\n",
    "        \n",
    "        # Randomly choose any three choices for capitals\n",
    "        wrongAns = random.sample(wrongAns, 3)\n",
    "        # add 4 answer options and shuffle them \n",
    "        ansOptions = wrongAns + [correctAns]\n",
    "        random.shuffle(ansOptions)\n",
    "        # Make a question and answer options\n",
    "        Quefile.write('%s.What is the capital of %s ? \\n'%(i+1, states[i]))\n",
    "        for j in range(4):\n",
    "            Quefile.write((' '*5)+'%s. %s\\n'%('ABCD'[j], ansOptions[j]))\n",
    "        Quefile.write('\\n')\n",
    "        Ans.write('%s. %s\\n'%(i+1, 'ABCD'[ansOptions.index(correctAns)]))\n"
   ]
  },
  {
   "cell_type": "code",
   "execution_count": null,
   "metadata": {},
   "outputs": [],
   "source": []
  }
 ],
 "metadata": {
  "kernelspec": {
   "display_name": "Python 3",
   "language": "python",
   "name": "python3"
  },
  "language_info": {
   "codemirror_mode": {
    "name": "ipython",
    "version": 3
   },
   "file_extension": ".py",
   "mimetype": "text/x-python",
   "name": "python",
   "nbconvert_exporter": "python",
   "pygments_lexer": "ipython3",
   "version": "3.6.4"
  }
 },
 "nbformat": 4,
 "nbformat_minor": 2
}
